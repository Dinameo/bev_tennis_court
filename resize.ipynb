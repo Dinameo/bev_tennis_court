{
 "cells": [
  {
   "cell_type": "code",
   "execution_count": 16,
   "metadata": {},
   "outputs": [],
   "source": [
    "import os\n",
    "import numpy as np\n",
    "import cv2\n",
    "import matplotlib.pyplot as plt"
   ]
  },
  {
   "cell_type": "code",
   "execution_count": 2,
   "metadata": {},
   "outputs": [],
   "source": [
    "import os\n",
    "import cv2\n",
    "import numpy as np\n",
    "\n",
    "link = './img_not_resize'\n",
    "link_save = './datasets/images/train'\n",
    "\n",
    "for i, file in enumerate(os.listdir(link), start=0):\n",
    "    file_path = os.path.join(link, file)\n",
    "    img = cv2.imread(file_path)\n",
    "    \n",
    "    if img is None:\n",
    "        print(f\"Không thể đọc ảnh: {file}\")\n",
    "        continue\n",
    "\n",
    "    h, w, c = img.shape\n",
    "    \n",
    "    _max = max(h, w)\n",
    "    pad = _max - min(h, w)\n",
    "    \n",
    "    arr = np.zeros((_max, _max, c), dtype=img.dtype)\n",
    "    arr[:h, :w, ...] = img\n",
    "    arr = cv2.resize(arr, (500, 500))\n",
    "    \n",
    "    # save\n",
    "    file_name = f'tennis_court_{i}.JPG'\n",
    "    cv2.imwrite(os.path.join(link_save, file_name), arr)\n"
   ]
  },
  {
   "cell_type": "code",
   "execution_count": 2,
   "metadata": {},
   "outputs": [
    {
     "data": {
      "text/plain": [
       "True"
      ]
     },
     "execution_count": 2,
     "metadata": {},
     "output_type": "execute_result"
    }
   ],
   "source": []
  }
 ],
 "metadata": {
  "kernelspec": {
   "display_name": "env1",
   "language": "python",
   "name": "python3"
  },
  "language_info": {
   "codemirror_mode": {
    "name": "ipython",
    "version": 3
   },
   "file_extension": ".py",
   "mimetype": "text/x-python",
   "name": "python",
   "nbconvert_exporter": "python",
   "pygments_lexer": "ipython3",
   "version": "3.10.14"
  }
 },
 "nbformat": 4,
 "nbformat_minor": 2
}
